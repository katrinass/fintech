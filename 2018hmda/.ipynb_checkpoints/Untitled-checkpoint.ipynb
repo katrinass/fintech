{
 "cells": [
  {
   "cell_type": "code",
   "execution_count": 4,
   "metadata": {},
   "outputs": [],
   "source": [
    "import pandas as pd\n",
    "import numpy as np"
   ]
  },
  {
   "cell_type": "code",
   "execution_count": 2,
   "metadata": {},
   "outputs": [],
   "source": [
    "import fuzzywuzzy\n",
    "from fuzzywuzzy import fuzz\n",
    "from fuzzywuzzy import process"
   ]
  },
  {
   "cell_type": "code",
   "execution_count": 5,
   "metadata": {},
   "outputs": [
    {
     "data": {
      "text/html": [
       "<div>\n",
       "<style scoped>\n",
       "    .dataframe tbody tr th:only-of-type {\n",
       "        vertical-align: middle;\n",
       "    }\n",
       "\n",
       "    .dataframe tbody tr th {\n",
       "        vertical-align: top;\n",
       "    }\n",
       "\n",
       "    .dataframe thead th {\n",
       "        text-align: right;\n",
       "    }\n",
       "</style>\n",
       "<table border=\"1\" class=\"dataframe\">\n",
       "  <thead>\n",
       "    <tr style=\"text-align: right;\">\n",
       "      <th></th>\n",
       "      <th>name17</th>\n",
       "      <th>name_clean</th>\n",
       "    </tr>\n",
       "  </thead>\n",
       "  <tbody>\n",
       "    <tr>\n",
       "      <th>0</th>\n",
       "      <td>ACADEMY MORTGAGE CORPORATION</td>\n",
       "      <td>ACADEMY MORTGAGE</td>\n",
       "    </tr>\n",
       "    <tr>\n",
       "      <th>1</th>\n",
       "      <td>ACOPIA CAPITAL GROUP</td>\n",
       "      <td>ACOPIA CAPITAL GROUP</td>\n",
       "    </tr>\n",
       "    <tr>\n",
       "      <th>2</th>\n",
       "      <td>AFFINITY PLUS FEDERAL CREDIT UNION</td>\n",
       "      <td>AFFINITY PLUS FEDERAL CREDIT UNION</td>\n",
       "    </tr>\n",
       "    <tr>\n",
       "      <th>3</th>\n",
       "      <td>AKT AMERICAN CAPITAL, INC. DBA AMERICAN CAPITA...</td>\n",
       "      <td>AKT AMERICAN CAPITAL DBA AMERICAN CAPITAL</td>\n",
       "    </tr>\n",
       "    <tr>\n",
       "      <th>4</th>\n",
       "      <td>ALPINE BANK &amp; TRUST CO.</td>\n",
       "      <td>ALPINE BANK AND</td>\n",
       "    </tr>\n",
       "  </tbody>\n",
       "</table>\n",
       "</div>"
      ],
      "text/plain": [
       "                                              name17  \\\n",
       "0                       ACADEMY MORTGAGE CORPORATION   \n",
       "1                               ACOPIA CAPITAL GROUP   \n",
       "2                 AFFINITY PLUS FEDERAL CREDIT UNION   \n",
       "3  AKT AMERICAN CAPITAL, INC. DBA AMERICAN CAPITA...   \n",
       "4                            ALPINE BANK & TRUST CO.   \n",
       "\n",
       "                                  name_clean  \n",
       "0                           ACADEMY MORTGAGE  \n",
       "1                       ACOPIA CAPITAL GROUP  \n",
       "2         AFFINITY PLUS FEDERAL CREDIT UNION  \n",
       "3  AKT AMERICAN CAPITAL DBA AMERICAN CAPITAL  \n",
       "4                           ALPINE BANK AND   "
      ]
     },
     "execution_count": 5,
     "metadata": {},
     "output_type": "execute_result"
    }
   ],
   "source": [
    "leftover=pd.read_excel(\"leftover.xlsx\")\n",
    "leftover[\"name_clean\"]=[i.upper().replace(\"NATIONAL ASSOCIATION\",\"\").replace(\" & \",\" AND \").replace(\"&\",\" AND \").replace(\",\",\"\").replace(\".\",\"\").replace(\" INC\",\"\").replace(\" LLC\",\"\").replace(\" THE\",\"\").replace(\" COMPANY\",\"\").replace(\" CORPORATION\",\"\").replace(\" CORP\",\"\").replace(\" CO\",\"\").replace(\" NA\",\"\").replace(\"TRUST\",\"\") for i in list(leftover.iloc[:,0])]\n",
    "leftover.head()"
   ]
  },
  {
   "cell_type": "code",
   "execution_count": 31,
   "metadata": {},
   "outputs": [],
   "source": [
    "def first(words):\n",
    "    split_word = words.split(\" \")\n",
    "    for i in split_word: \n",
    "        if len(i) > 3:\n",
    "            return i\n",
    "    return split_word[0]"
   ]
  },
  {
   "cell_type": "code",
   "execution_count": 32,
   "metadata": {},
   "outputs": [
    {
     "data": {
      "text/html": [
       "<div>\n",
       "<style scoped>\n",
       "    .dataframe tbody tr th:only-of-type {\n",
       "        vertical-align: middle;\n",
       "    }\n",
       "\n",
       "    .dataframe tbody tr th {\n",
       "        vertical-align: top;\n",
       "    }\n",
       "\n",
       "    .dataframe thead th {\n",
       "        text-align: right;\n",
       "    }\n",
       "</style>\n",
       "<table border=\"1\" class=\"dataframe\">\n",
       "  <thead>\n",
       "    <tr style=\"text-align: right;\">\n",
       "      <th></th>\n",
       "      <th>lei</th>\n",
       "      <th>respondent_name</th>\n",
       "      <th>name_clean</th>\n",
       "      <th>new_first</th>\n",
       "    </tr>\n",
       "  </thead>\n",
       "  <tbody>\n",
       "    <tr>\n",
       "      <th>1</th>\n",
       "      <td>2549000VVDQ9NNW01Q23</td>\n",
       "      <td>Listerhill Credit Union</td>\n",
       "      <td>LISTERHILL CREDIT UNION</td>\n",
       "      <td>LISTERHILL</td>\n",
       "    </tr>\n",
       "    <tr>\n",
       "      <th>2</th>\n",
       "      <td>1IE8VN30JCEQV1H4R804</td>\n",
       "      <td>HSBC BANK USA, NATIONAL ASSOCIATION</td>\n",
       "      <td>HSBC BANK USA</td>\n",
       "      <td>HSBC</td>\n",
       "    </tr>\n",
       "    <tr>\n",
       "      <th>3</th>\n",
       "      <td>25490001F0A9F7BV6B05</td>\n",
       "      <td>Albany Bank and Trust Company National Associa...</td>\n",
       "      <td>ALBANY BANK AND</td>\n",
       "      <td>ALBANY</td>\n",
       "    </tr>\n",
       "    <tr>\n",
       "      <th>4</th>\n",
       "      <td>2549002H3CEW0748X068</td>\n",
       "      <td>The First National Bank of Brooksville</td>\n",
       "      <td>THE FIRSTTIONAL BANK OF BROOKSVILLE</td>\n",
       "      <td>FIRSTTIONAL</td>\n",
       "    </tr>\n",
       "    <tr>\n",
       "      <th>5</th>\n",
       "      <td>25490012KFFZI81TDT02</td>\n",
       "      <td>The Fidelity Bank</td>\n",
       "      <td>THE FIDELITY BANK</td>\n",
       "      <td>FIDELITY</td>\n",
       "    </tr>\n",
       "  </tbody>\n",
       "</table>\n",
       "</div>"
      ],
      "text/plain": [
       "                    lei                                    respondent_name  \\\n",
       "1  2549000VVDQ9NNW01Q23                            Listerhill Credit Union   \n",
       "2  1IE8VN30JCEQV1H4R804                HSBC BANK USA, NATIONAL ASSOCIATION   \n",
       "3  25490001F0A9F7BV6B05  Albany Bank and Trust Company National Associa...   \n",
       "4  2549002H3CEW0748X068             The First National Bank of Brooksville   \n",
       "5  25490012KFFZI81TDT02                                  The Fidelity Bank   \n",
       "\n",
       "                            name_clean    new_first  \n",
       "1              LISTERHILL CREDIT UNION   LISTERHILL  \n",
       "2                       HSBC BANK USA          HSBC  \n",
       "3                    ALBANY BANK AND         ALBANY  \n",
       "4  THE FIRSTTIONAL BANK OF BROOKSVILLE  FIRSTTIONAL  \n",
       "5                    THE FIDELITY BANK     FIDELITY  "
      ]
     },
     "execution_count": 32,
     "metadata": {},
     "output_type": "execute_result"
    }
   ],
   "source": [
    "panel18=pd.read_excel(\"2018panel.xlsx\")\n",
    "panel18=panel18.drop([0])\n",
    "panel18[\"name_clean\"]=[i.upper().replace(\"NATIONAL ASSOCIATION\",\"\").replace(\" & \",\" AND \").replace(\"&\",\" AND \").replace(\",\",\"\").replace(\".\",\"\").replace(\" INC\",\"\").replace(\" LLC\",\"\").replace(\" THE\",\"\").replace(\" COMPANY\",\"\").replace(\" CORPORATION\",\"\").replace(\" CORP\",\"\").replace(\" CO\",\"\").replace(\" NA\",\"\").replace(\"TRUST\",\"\") for i in list(panel18.iloc[:,1])]\n",
    "panel18[\"new_first\"]=[first(i) for i in panel18[\"name_clean\"]]\n",
    "panel18.head()"
   ]
  },
  {
   "cell_type": "code",
   "execution_count": 40,
   "metadata": {},
   "outputs": [
    {
     "ename": "KeyError",
     "evalue": "'the label [1] is not in the [index]'",
     "output_type": "error",
     "traceback": [
      "\u001b[0;31m---------------------------------------------------------------------------\u001b[0m",
      "\u001b[0;31mKeyError\u001b[0m                                  Traceback (most recent call last)",
      "\u001b[0;32m/anaconda3/lib/python3.7/site-packages/pandas/core/indexing.py\u001b[0m in \u001b[0;36m_validate_key\u001b[0;34m(self, key, axis)\u001b[0m\n\u001b[1;32m   1789\u001b[0m                 \u001b[0;32mif\u001b[0m \u001b[0;32mnot\u001b[0m \u001b[0max\u001b[0m\u001b[0;34m.\u001b[0m\u001b[0mcontains\u001b[0m\u001b[0;34m(\u001b[0m\u001b[0mkey\u001b[0m\u001b[0;34m)\u001b[0m\u001b[0;34m:\u001b[0m\u001b[0;34m\u001b[0m\u001b[0;34m\u001b[0m\u001b[0m\n\u001b[0;32m-> 1790\u001b[0;31m                     \u001b[0merror\u001b[0m\u001b[0;34m(\u001b[0m\u001b[0;34m)\u001b[0m\u001b[0;34m\u001b[0m\u001b[0;34m\u001b[0m\u001b[0m\n\u001b[0m\u001b[1;32m   1791\u001b[0m             \u001b[0;32mexcept\u001b[0m \u001b[0mTypeError\u001b[0m \u001b[0;32mas\u001b[0m \u001b[0me\u001b[0m\u001b[0;34m:\u001b[0m\u001b[0;34m\u001b[0m\u001b[0;34m\u001b[0m\u001b[0m\n",
      "\u001b[0;32m/anaconda3/lib/python3.7/site-packages/pandas/core/indexing.py\u001b[0m in \u001b[0;36merror\u001b[0;34m()\u001b[0m\n\u001b[1;32m   1784\u001b[0m                                .format(key=key,\n\u001b[0;32m-> 1785\u001b[0;31m                                        axis=self.obj._get_axis_name(axis)))\n\u001b[0m\u001b[1;32m   1786\u001b[0m \u001b[0;34m\u001b[0m\u001b[0m\n",
      "\u001b[0;31mKeyError\u001b[0m: 'the label [1] is not in the [index]'",
      "\nDuring handling of the above exception, another exception occurred:\n",
      "\u001b[0;31mKeyError\u001b[0m                                  Traceback (most recent call last)",
      "\u001b[0;32m<ipython-input-40-c855895cdb76>\u001b[0m in \u001b[0;36m<module>\u001b[0;34m\u001b[0m\n\u001b[1;32m     11\u001b[0m                      score]\n\u001b[1;32m     12\u001b[0m     \u001b[0mN\u001b[0m \u001b[0;34m+=\u001b[0m \u001b[0;36m1\u001b[0m\u001b[0;34m\u001b[0m\u001b[0;34m\u001b[0m\u001b[0m\n\u001b[0;32m---> 13\u001b[0;31m     \u001b[0mprint\u001b[0m\u001b[0;34m(\u001b[0m\u001b[0mlmatch\u001b[0m\u001b[0;34m.\u001b[0m\u001b[0mloc\u001b[0m\u001b[0;34m[\u001b[0m\u001b[0mN\u001b[0m\u001b[0;34m]\u001b[0m\u001b[0;34m)\u001b[0m\u001b[0;34m\u001b[0m\u001b[0;34m\u001b[0m\u001b[0m\n\u001b[0m",
      "\u001b[0;32m/anaconda3/lib/python3.7/site-packages/pandas/core/indexing.py\u001b[0m in \u001b[0;36m__getitem__\u001b[0;34m(self, key)\u001b[0m\n\u001b[1;32m   1476\u001b[0m \u001b[0;34m\u001b[0m\u001b[0m\n\u001b[1;32m   1477\u001b[0m             \u001b[0mmaybe_callable\u001b[0m \u001b[0;34m=\u001b[0m \u001b[0mcom\u001b[0m\u001b[0;34m.\u001b[0m\u001b[0m_apply_if_callable\u001b[0m\u001b[0;34m(\u001b[0m\u001b[0mkey\u001b[0m\u001b[0;34m,\u001b[0m \u001b[0mself\u001b[0m\u001b[0;34m.\u001b[0m\u001b[0mobj\u001b[0m\u001b[0;34m)\u001b[0m\u001b[0;34m\u001b[0m\u001b[0;34m\u001b[0m\u001b[0m\n\u001b[0;32m-> 1478\u001b[0;31m             \u001b[0;32mreturn\u001b[0m \u001b[0mself\u001b[0m\u001b[0;34m.\u001b[0m\u001b[0m_getitem_axis\u001b[0m\u001b[0;34m(\u001b[0m\u001b[0mmaybe_callable\u001b[0m\u001b[0;34m,\u001b[0m \u001b[0maxis\u001b[0m\u001b[0;34m=\u001b[0m\u001b[0maxis\u001b[0m\u001b[0;34m)\u001b[0m\u001b[0;34m\u001b[0m\u001b[0;34m\u001b[0m\u001b[0m\n\u001b[0m\u001b[1;32m   1479\u001b[0m \u001b[0;34m\u001b[0m\u001b[0m\n\u001b[1;32m   1480\u001b[0m     \u001b[0;32mdef\u001b[0m \u001b[0m_is_scalar_access\u001b[0m\u001b[0;34m(\u001b[0m\u001b[0mself\u001b[0m\u001b[0;34m,\u001b[0m \u001b[0mkey\u001b[0m\u001b[0;34m)\u001b[0m\u001b[0;34m:\u001b[0m\u001b[0;34m\u001b[0m\u001b[0;34m\u001b[0m\u001b[0m\n",
      "\u001b[0;32m/anaconda3/lib/python3.7/site-packages/pandas/core/indexing.py\u001b[0m in \u001b[0;36m_getitem_axis\u001b[0;34m(self, key, axis)\u001b[0m\n\u001b[1;32m   1909\u001b[0m \u001b[0;34m\u001b[0m\u001b[0m\n\u001b[1;32m   1910\u001b[0m         \u001b[0;31m# fall thru to straight lookup\u001b[0m\u001b[0;34m\u001b[0m\u001b[0;34m\u001b[0m\u001b[0;34m\u001b[0m\u001b[0m\n\u001b[0;32m-> 1911\u001b[0;31m         \u001b[0mself\u001b[0m\u001b[0;34m.\u001b[0m\u001b[0m_validate_key\u001b[0m\u001b[0;34m(\u001b[0m\u001b[0mkey\u001b[0m\u001b[0;34m,\u001b[0m \u001b[0maxis\u001b[0m\u001b[0;34m)\u001b[0m\u001b[0;34m\u001b[0m\u001b[0;34m\u001b[0m\u001b[0m\n\u001b[0m\u001b[1;32m   1912\u001b[0m         \u001b[0;32mreturn\u001b[0m \u001b[0mself\u001b[0m\u001b[0;34m.\u001b[0m\u001b[0m_get_label\u001b[0m\u001b[0;34m(\u001b[0m\u001b[0mkey\u001b[0m\u001b[0;34m,\u001b[0m \u001b[0maxis\u001b[0m\u001b[0;34m=\u001b[0m\u001b[0maxis\u001b[0m\u001b[0;34m)\u001b[0m\u001b[0;34m\u001b[0m\u001b[0;34m\u001b[0m\u001b[0m\n\u001b[1;32m   1913\u001b[0m \u001b[0;34m\u001b[0m\u001b[0m\n",
      "\u001b[0;32m/anaconda3/lib/python3.7/site-packages/pandas/core/indexing.py\u001b[0m in \u001b[0;36m_validate_key\u001b[0;34m(self, key, axis)\u001b[0m\n\u001b[1;32m   1796\u001b[0m                 \u001b[0;32mraise\u001b[0m\u001b[0;34m\u001b[0m\u001b[0;34m\u001b[0m\u001b[0m\n\u001b[1;32m   1797\u001b[0m             \u001b[0;32mexcept\u001b[0m\u001b[0;34m:\u001b[0m\u001b[0;34m\u001b[0m\u001b[0;34m\u001b[0m\u001b[0m\n\u001b[0;32m-> 1798\u001b[0;31m                 \u001b[0merror\u001b[0m\u001b[0;34m(\u001b[0m\u001b[0;34m)\u001b[0m\u001b[0;34m\u001b[0m\u001b[0;34m\u001b[0m\u001b[0m\n\u001b[0m\u001b[1;32m   1799\u001b[0m \u001b[0;34m\u001b[0m\u001b[0m\n\u001b[1;32m   1800\u001b[0m     \u001b[0;32mdef\u001b[0m \u001b[0m_is_scalar_access\u001b[0m\u001b[0;34m(\u001b[0m\u001b[0mself\u001b[0m\u001b[0;34m,\u001b[0m \u001b[0mkey\u001b[0m\u001b[0;34m)\u001b[0m\u001b[0;34m:\u001b[0m\u001b[0;34m\u001b[0m\u001b[0;34m\u001b[0m\u001b[0m\n",
      "\u001b[0;32m/anaconda3/lib/python3.7/site-packages/pandas/core/indexing.py\u001b[0m in \u001b[0;36merror\u001b[0;34m()\u001b[0m\n\u001b[1;32m   1783\u001b[0m                 raise KeyError(u\"the label [{key}] is not in the [{axis}]\"\n\u001b[1;32m   1784\u001b[0m                                .format(key=key,\n\u001b[0;32m-> 1785\u001b[0;31m                                        axis=self.obj._get_axis_name(axis)))\n\u001b[0m\u001b[1;32m   1786\u001b[0m \u001b[0;34m\u001b[0m\u001b[0m\n\u001b[1;32m   1787\u001b[0m             \u001b[0;32mtry\u001b[0m\u001b[0;34m:\u001b[0m\u001b[0;34m\u001b[0m\u001b[0;34m\u001b[0m\u001b[0m\n",
      "\u001b[0;31mKeyError\u001b[0m: 'the label [1] is not in the [index]'"
     ]
    }
   ],
   "source": [
    "leftover_first=[first(i) for i in leftover[\"name_clean\"]]\n",
    "new_first=[first(i) for i in panel18[\"name_clean\"]]\n",
    "\n",
    "lmatch = pd.DataFrame(columns=[\"name18\", \"leftover\", \"score\"])\n",
    "N = 0\n",
    "\n",
    "for i in leftover_first:\n",
    "    match, score = process.extractOne(i, new_first)\n",
    "    lmatch.loc[N] = [leftover.iloc[N,0],\\\n",
    "                     panel18[panel18[\"new_first\"] == match][\"respondent_name\"],\\\n",
    "                     score]\n",
    "    N += 1\n",
    "    print(lmatch.loc[N])"
   ]
  },
  {
   "cell_type": "code",
   "execution_count": 38,
   "metadata": {},
   "outputs": [],
   "source": [
    "match, score = process.extractOne(leftover_first[1], new_first)"
   ]
  },
  {
   "cell_type": "code",
   "execution_count": 39,
   "metadata": {},
   "outputs": [
    {
     "data": {
      "text/html": [
       "<div>\n",
       "<style scoped>\n",
       "    .dataframe tbody tr th:only-of-type {\n",
       "        vertical-align: middle;\n",
       "    }\n",
       "\n",
       "    .dataframe tbody tr th {\n",
       "        vertical-align: top;\n",
       "    }\n",
       "\n",
       "    .dataframe thead th {\n",
       "        text-align: right;\n",
       "    }\n",
       "</style>\n",
       "<table border=\"1\" class=\"dataframe\">\n",
       "  <thead>\n",
       "    <tr style=\"text-align: right;\">\n",
       "      <th></th>\n",
       "      <th>lei</th>\n",
       "      <th>respondent_name</th>\n",
       "      <th>name_clean</th>\n",
       "      <th>new_first</th>\n",
       "    </tr>\n",
       "  </thead>\n",
       "  <tbody>\n",
       "    <tr>\n",
       "      <th>4671</th>\n",
       "      <td>549300L1DBFIJZI8LA40</td>\n",
       "      <td>ACOPIA, LLC</td>\n",
       "      <td>ACOPIA</td>\n",
       "      <td>ACOPIA</td>\n",
       "    </tr>\n",
       "  </tbody>\n",
       "</table>\n",
       "</div>"
      ],
      "text/plain": [
       "                       lei respondent_name name_clean new_first\n",
       "4671  549300L1DBFIJZI8LA40     ACOPIA, LLC     ACOPIA    ACOPIA"
      ]
     },
     "execution_count": 39,
     "metadata": {},
     "output_type": "execute_result"
    }
   ],
   "source": [
    "panel18[panel18[\"new_first\"] == match][\"respondent_name\"]"
   ]
  },
  {
   "cell_type": "code",
   "execution_count": 24,
   "metadata": {},
   "outputs": [
    {
     "data": {
      "text/plain": [
       "1       2549000VVDQ9NNW01Q23\n",
       "2       1IE8VN30JCEQV1H4R804\n",
       "3       25490001F0A9F7BV6B05\n",
       "4       2549002H3CEW0748X068\n",
       "5       25490012KFFZI81TDT02\n",
       "6       2549001E11O22GGBEL86\n",
       "7       20TVKH7M13MUBGE80C53\n",
       "8       25490008HJSJXXX9TO61\n",
       "9       2549001SMFSVFT382M09\n",
       "10      2549002F2MBMPG0YSQ20\n",
       "11      2549001R6R928Y08SC30\n",
       "12      25490023H7X3L32H8F50\n",
       "13      549300W40F67Y6WWQX34\n",
       "14      25490000OGVJZR74L509\n",
       "15      1TMVIO1SD0RLIPEIW803\n",
       "16      25490029ZGGK0O5HP605\n",
       "17      2549002AOWUCD3BSTP80\n",
       "18      2549000JPXK5I949AM33\n",
       "19      25490018IFQOT83Q7H49\n",
       "20      2549000ZEJPSBH6OSH79\n",
       "21      254900040LMONERSH242\n",
       "22      2549001VTOPU7JA6G249\n",
       "23      213800KVD76WKI6PN868\n",
       "24      03D0JEWFDFUS0SEEKG89\n",
       "25      0L0W72STJN2EGP1X2N39\n",
       "26      2549001ZX3163R62TB83\n",
       "27      21380054U5NKZKBQ4128\n",
       "28      2138007DQF1WY8NDYM18\n",
       "29      2549000S4R1QRQ0UX708\n",
       "30      2549001XVX1R2ITF6935\n",
       "                ...         \n",
       "5653    549300PIS0RX2F183J74\n",
       "5654    549300TY63F2VQCXD029\n",
       "5655    549300KW3HYVC06WS898\n",
       "5656    549300ZWBZI4IUOSSQ18\n",
       "5657    8945001K7B2ZYXWUBZ02\n",
       "5658    25490099XNQQU8T3WI97\n",
       "5659    549300XELYQIOXKMPE32\n",
       "5660    254900FBWEZ3YUPOBN33\n",
       "5661    549300BWXVTVB5RRZN58\n",
       "5662    549300JNTZTF40KCOF79\n",
       "5663    254900SJDUBD5DVVWZ69\n",
       "5664    549300DGOVTO3RMRNM72\n",
       "5665    54930009LUIVFTPRGT26\n",
       "5666    NJ1Z0LLF4RLDWG2WCN80\n",
       "5667    549300P6LWTHH4GFWX19\n",
       "5668    5493008R6KUI4KIER222\n",
       "5669    549300P7QM2ETZZY0323\n",
       "5670    2549003K48UGTWEK6O31\n",
       "5671    549300Y8MO6UUFA38I79\n",
       "5672    549300LPN926HCD3NN25\n",
       "5673    984500F0KF3MD44AF596\n",
       "5674    254900L8E0QUT5VH5G34\n",
       "5675    549300WXRBBOTAKXOS72\n",
       "5676    894500LIN378M3LLE796\n",
       "5677    549300YJTYKNAFNH8708\n",
       "5678    5493005I7R041I8VOW18\n",
       "5679    5493001QNNB0G97J5530\n",
       "5680    5493007KXIK81MVSXW19\n",
       "5681    254900JP0RZQA3KX5N51\n",
       "5682    549300I7G0WB7Z0BCX80\n",
       "Name: name_clean, Length: 5682, dtype: object"
      ]
     },
     "execution_count": 24,
     "metadata": {},
     "output_type": "execute_result"
    }
   ],
   "source": [
    "panel18[\"name_clean\"]"
   ]
  },
  {
   "cell_type": "code",
   "execution_count": null,
   "metadata": {},
   "outputs": [],
   "source": []
  }
 ],
 "metadata": {
  "kernelspec": {
   "display_name": "Python 3",
   "language": "python",
   "name": "python3"
  },
  "language_info": {
   "codemirror_mode": {
    "name": "ipython",
    "version": 3
   },
   "file_extension": ".py",
   "mimetype": "text/x-python",
   "name": "python",
   "nbconvert_exporter": "python",
   "pygments_lexer": "ipython3",
   "version": "3.7.1"
  }
 },
 "nbformat": 4,
 "nbformat_minor": 2
}
